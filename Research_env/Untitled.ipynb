{
 "cells": [
  {
   "cell_type": "code",
   "execution_count": 26,
   "id": "26fc7f30",
   "metadata": {},
   "outputs": [],
   "source": [
    "import os\n",
    "import matplotlib.pyplot as plt\n",
    "import joblib\n",
    "import numpy as np\n",
    "import pandas as pd\n",
    "plt.style.use('fivethirtyeight')"
   ]
  },
  {
   "cell_type": "code",
   "execution_count": 1,
   "id": "023bf14a",
   "metadata": {},
   "outputs": [
    {
     "name": "stdout",
     "output_type": "stream",
     "text": [
      "Collecting joblib\n",
      "  Downloading joblib-1.1.0-py2.py3-none-any.whl (306 kB)\n",
      "Installing collected packages: joblib\n",
      "Successfully installed joblib-1.1.0\n"
     ]
    }
   ],
   "source": [
    "#!pip install joblib"
   ]
  },
  {
   "cell_type": "code",
   "execution_count": 51,
   "id": "e72405cc",
   "metadata": {},
   "outputs": [],
   "source": [
    "class Percptron:\n",
    "    def __init__(self,eta: float=None,epochs: int=None):\n",
    "        self.weights = np.random.randn(3) * 1e-4\n",
    "        self.eta = eta  # Learning Rate\n",
    "        self.epochs= epochs # Iteration\n",
    "    def _z_outcome(self, inputs,weights):\n",
    "        return np.dot(inputs,weights)\n",
    "    \n",
    "    def activation_function(self,z):\n",
    "        return np.where(z>0,1,0)\n",
    "    \n",
    "    def fit(self,X,y):\n",
    "        self.X= X\n",
    "        self.y = y\n",
    "        X_with_bias = np.c_[self.X, -np.ones((len(self.X),1))]\n",
    "        print(f\"X with Bias:\\n {X_with_bias}\")\n",
    "        \n",
    "        for epoch in range(self.epochs):\n",
    "            print(\"--\"*10)\n",
    "            print(f\"for epoch  >> {epoch+1}\")\n",
    "            \n",
    "            z = self._z_outcome(X_with_bias,self.weights)\n",
    "            y_hat = self.activation_function(z)\n",
    "            print(f\"predicted value :\\n {y_hat}\")\n",
    "            self.error = self.y-y_hat\n",
    "            print(f\"error value :\\n {self.error}\")\n",
    "            self.weights = self.weights + self.eta * np.dot(X_with_bias.T,self.error)\n",
    "            print(f\"updated weight value after epoch:{epoch} :\\n {self.weights}\")\n",
    "            print(\"##\"*10)\n",
    "\n",
    "    def predict(self,X):\n",
    "        X_with_bias = np.c_[X, -np.ones((len(X),1))]\n",
    "        z = self._z_outcome(X_with_bias,self.weights)\n",
    "        return self.activation_function(z)"
   ]
  },
  {
   "cell_type": "code",
   "execution_count": 52,
   "id": "f464072f",
   "metadata": {},
   "outputs": [],
   "source": [
    "OR = {\n",
    "    'x1':[0,0,1,1],\n",
    "    'x2':[0,1,0,1],\n",
    "    'y':[0,1,1,1]\n",
    "}\n",
    "\n",
    "df_OR = pd.DataFrame(OR)"
   ]
  },
  {
   "cell_type": "code",
   "execution_count": 57,
   "id": "c077d1f0",
   "metadata": {},
   "outputs": [],
   "source": [
    "AND = {\n",
    "    'x1':[0,0,1,1],\n",
    "    'x2':[0,1,0,1],\n",
    "    'y':[0,0,0,1]\n",
    "}\n",
    "\n",
    "df_AND = pd.DataFrame(AND)"
   ]
  },
  {
   "cell_type": "code",
   "execution_count": 58,
   "id": "c5b44fdb",
   "metadata": {},
   "outputs": [],
   "source": [
    "XOR = {\n",
    "    'x1':[0,0,1,1],\n",
    "    'x2':[0,1,0,1],\n",
    "    'y':[0,1,1,0]\n",
    "}\n",
    "\n",
    "df_XOR = pd.DataFrame(XOR)"
   ]
  },
  {
   "cell_type": "code",
   "execution_count": 59,
   "id": "ce858466",
   "metadata": {},
   "outputs": [],
   "source": [
    "def prepare_data(df, target_col= 'y'):\n",
    "    X = df.drop(target_col,axis = 1)\n",
    "    y = df[target_col]\n",
    "    return X,y"
   ]
  },
  {
   "cell_type": "code",
   "execution_count": 60,
   "id": "31e4f04f",
   "metadata": {},
   "outputs": [
    {
     "name": "stdout",
     "output_type": "stream",
     "text": [
      "X with Bias:\n",
      " [[ 0.  0. -1.]\n",
      " [ 0.  1. -1.]\n",
      " [ 1.  0. -1.]\n",
      " [ 1.  1. -1.]]\n",
      "--------------------\n",
      "for epoch  >> 1\n",
      "predicted value :\n",
      " [1 1 0 1]\n",
      "error value :\n",
      " 0   -1\n",
      "1    0\n",
      "2    1\n",
      "3    0\n",
      "Name: y, dtype: int64\n",
      "updated weight value after epoch:0 :\n",
      " [ 9.99435666e-02  1.19500358e-04 -3.66815853e-05]\n",
      "####################\n",
      "--------------------\n",
      "for epoch  >> 2\n",
      "predicted value :\n",
      " [1 1 1 1]\n",
      "error value :\n",
      " 0   -1\n",
      "1    0\n",
      "2    0\n",
      "3    0\n",
      "Name: y, dtype: int64\n",
      "updated weight value after epoch:1 :\n",
      " [0.09994357 0.0001195  0.09996332]\n",
      "####################\n",
      "--------------------\n",
      "for epoch  >> 3\n",
      "predicted value :\n",
      " [0 0 0 1]\n",
      "error value :\n",
      " 0    0\n",
      "1    1\n",
      "2    1\n",
      "3    0\n",
      "Name: y, dtype: int64\n",
      "updated weight value after epoch:2 :\n",
      " [ 0.19994357  0.1001195  -0.10003668]\n",
      "####################\n",
      "--------------------\n",
      "for epoch  >> 4\n",
      "predicted value :\n",
      " [1 1 1 1]\n",
      "error value :\n",
      " 0   -1\n",
      "1    0\n",
      "2    0\n",
      "3    0\n",
      "Name: y, dtype: int64\n",
      "updated weight value after epoch:3 :\n",
      " [ 1.99943567e-01  1.00119500e-01 -3.66815853e-05]\n",
      "####################\n",
      "--------------------\n",
      "for epoch  >> 5\n",
      "predicted value :\n",
      " [1 1 1 1]\n",
      "error value :\n",
      " 0   -1\n",
      "1    0\n",
      "2    0\n",
      "3    0\n",
      "Name: y, dtype: int64\n",
      "updated weight value after epoch:4 :\n",
      " [0.19994357 0.1001195  0.09996332]\n",
      "####################\n",
      "--------------------\n",
      "for epoch  >> 6\n",
      "predicted value :\n",
      " [0 1 1 1]\n",
      "error value :\n",
      " 0    0\n",
      "1    0\n",
      "2    0\n",
      "3    0\n",
      "Name: y, dtype: int64\n",
      "updated weight value after epoch:5 :\n",
      " [0.19994357 0.1001195  0.09996332]\n",
      "####################\n",
      "--------------------\n",
      "for epoch  >> 7\n",
      "predicted value :\n",
      " [0 1 1 1]\n",
      "error value :\n",
      " 0    0\n",
      "1    0\n",
      "2    0\n",
      "3    0\n",
      "Name: y, dtype: int64\n",
      "updated weight value after epoch:6 :\n",
      " [0.19994357 0.1001195  0.09996332]\n",
      "####################\n",
      "--------------------\n",
      "for epoch  >> 8\n",
      "predicted value :\n",
      " [0 1 1 1]\n",
      "error value :\n",
      " 0    0\n",
      "1    0\n",
      "2    0\n",
      "3    0\n",
      "Name: y, dtype: int64\n",
      "updated weight value after epoch:7 :\n",
      " [0.19994357 0.1001195  0.09996332]\n",
      "####################\n",
      "--------------------\n",
      "for epoch  >> 9\n",
      "predicted value :\n",
      " [0 1 1 1]\n",
      "error value :\n",
      " 0    0\n",
      "1    0\n",
      "2    0\n",
      "3    0\n",
      "Name: y, dtype: int64\n",
      "updated weight value after epoch:8 :\n",
      " [0.19994357 0.1001195  0.09996332]\n",
      "####################\n",
      "--------------------\n",
      "for epoch  >> 10\n",
      "predicted value :\n",
      " [0 1 1 1]\n",
      "error value :\n",
      " 0    0\n",
      "1    0\n",
      "2    0\n",
      "3    0\n",
      "Name: y, dtype: int64\n",
      "updated weight value after epoch:9 :\n",
      " [0.19994357 0.1001195  0.09996332]\n",
      "####################\n"
     ]
    }
   ],
   "source": [
    "X,y = prepare_data(df_OR)\n",
    "eta = 0.1\n",
    "EPOCHS = 10\n",
    "model_or = Percptron(eta=eta,epochs=EPOCHS)\n",
    "model_or.fit(X,y)"
   ]
  },
  {
   "cell_type": "code",
   "execution_count": 61,
   "id": "5dbd158e",
   "metadata": {},
   "outputs": [
    {
     "name": "stdout",
     "output_type": "stream",
     "text": [
      "X with Bias:\n",
      " [[ 0.  0. -1.]\n",
      " [ 0.  1. -1.]\n",
      " [ 1.  0. -1.]\n",
      " [ 1.  1. -1.]]\n",
      "--------------------\n",
      "for epoch  >> 1\n",
      "predicted value :\n",
      " [1 1 1 1]\n",
      "error value :\n",
      " 0   -1\n",
      "1   -1\n",
      "2   -1\n",
      "3    0\n",
      "Name: y, dtype: int64\n",
      "updated weight value after epoch:0 :\n",
      " [-0.09999163 -0.10000584  0.2999738 ]\n",
      "####################\n",
      "--------------------\n",
      "for epoch  >> 2\n",
      "predicted value :\n",
      " [0 0 0 0]\n",
      "error value :\n",
      " 0    0\n",
      "1    0\n",
      "2    0\n",
      "3    1\n",
      "Name: y, dtype: int64\n",
      "updated weight value after epoch:1 :\n",
      " [ 8.36894697e-06 -5.83757796e-06  1.99973796e-01]\n",
      "####################\n",
      "--------------------\n",
      "for epoch  >> 3\n",
      "predicted value :\n",
      " [0 0 0 0]\n",
      "error value :\n",
      " 0    0\n",
      "1    0\n",
      "2    0\n",
      "3    1\n",
      "Name: y, dtype: int64\n",
      "updated weight value after epoch:2 :\n",
      " [0.10000837 0.09999416 0.0999738 ]\n",
      "####################\n",
      "--------------------\n",
      "for epoch  >> 4\n",
      "predicted value :\n",
      " [0 1 1 1]\n",
      "error value :\n",
      " 0    0\n",
      "1   -1\n",
      "2   -1\n",
      "3    0\n",
      "Name: y, dtype: int64\n",
      "updated weight value after epoch:3 :\n",
      " [ 8.36894697e-06 -5.83757796e-06  2.99973796e-01]\n",
      "####################\n",
      "--------------------\n",
      "for epoch  >> 5\n",
      "predicted value :\n",
      " [0 0 0 0]\n",
      "error value :\n",
      " 0    0\n",
      "1    0\n",
      "2    0\n",
      "3    1\n",
      "Name: y, dtype: int64\n",
      "updated weight value after epoch:4 :\n",
      " [0.10000837 0.09999416 0.1999738 ]\n",
      "####################\n",
      "--------------------\n",
      "for epoch  >> 6\n",
      "predicted value :\n",
      " [0 0 0 1]\n",
      "error value :\n",
      " 0    0\n",
      "1    0\n",
      "2    0\n",
      "3    0\n",
      "Name: y, dtype: int64\n",
      "updated weight value after epoch:5 :\n",
      " [0.10000837 0.09999416 0.1999738 ]\n",
      "####################\n",
      "--------------------\n",
      "for epoch  >> 7\n",
      "predicted value :\n",
      " [0 0 0 1]\n",
      "error value :\n",
      " 0    0\n",
      "1    0\n",
      "2    0\n",
      "3    0\n",
      "Name: y, dtype: int64\n",
      "updated weight value after epoch:6 :\n",
      " [0.10000837 0.09999416 0.1999738 ]\n",
      "####################\n",
      "--------------------\n",
      "for epoch  >> 8\n",
      "predicted value :\n",
      " [0 0 0 1]\n",
      "error value :\n",
      " 0    0\n",
      "1    0\n",
      "2    0\n",
      "3    0\n",
      "Name: y, dtype: int64\n",
      "updated weight value after epoch:7 :\n",
      " [0.10000837 0.09999416 0.1999738 ]\n",
      "####################\n",
      "--------------------\n",
      "for epoch  >> 9\n",
      "predicted value :\n",
      " [0 0 0 1]\n",
      "error value :\n",
      " 0    0\n",
      "1    0\n",
      "2    0\n",
      "3    0\n",
      "Name: y, dtype: int64\n",
      "updated weight value after epoch:8 :\n",
      " [0.10000837 0.09999416 0.1999738 ]\n",
      "####################\n",
      "--------------------\n",
      "for epoch  >> 10\n",
      "predicted value :\n",
      " [0 0 0 1]\n",
      "error value :\n",
      " 0    0\n",
      "1    0\n",
      "2    0\n",
      "3    0\n",
      "Name: y, dtype: int64\n",
      "updated weight value after epoch:9 :\n",
      " [0.10000837 0.09999416 0.1999738 ]\n",
      "####################\n"
     ]
    }
   ],
   "source": [
    "X,y = prepare_data(df_AND)\n",
    "eta = 0.1\n",
    "EPOCHS = 10\n",
    "model_or = Percptron(eta=eta,epochs=EPOCHS)\n",
    "model_or.fit(X,y)"
   ]
  },
  {
   "cell_type": "code",
   "execution_count": 62,
   "id": "9284da77",
   "metadata": {},
   "outputs": [
    {
     "name": "stdout",
     "output_type": "stream",
     "text": [
      "X with Bias:\n",
      " [[ 0.  0. -1.]\n",
      " [ 0.  1. -1.]\n",
      " [ 1.  0. -1.]\n",
      " [ 1.  1. -1.]]\n",
      "--------------------\n",
      "for epoch  >> 1\n",
      "predicted value :\n",
      " [0 0 1 0]\n",
      "error value :\n",
      " 0    0\n",
      "1    1\n",
      "2    0\n",
      "3    0\n",
      "Name: y, dtype: int64\n",
      "updated weight value after epoch:0 :\n",
      " [ 0.0001661   0.09985049 -0.09989852]\n",
      "####################\n",
      "--------------------\n",
      "for epoch  >> 2\n",
      "predicted value :\n",
      " [1 1 1 1]\n",
      "error value :\n",
      " 0   -1\n",
      "1    0\n",
      "2    0\n",
      "3   -1\n",
      "Name: y, dtype: int64\n",
      "updated weight value after epoch:1 :\n",
      " [-0.0998339  -0.00014951  0.10010148]\n",
      "####################\n",
      "--------------------\n",
      "for epoch  >> 3\n",
      "predicted value :\n",
      " [0 0 0 0]\n",
      "error value :\n",
      " 0    0\n",
      "1    1\n",
      "2    1\n",
      "3    0\n",
      "Name: y, dtype: int64\n",
      "updated weight value after epoch:2 :\n",
      " [ 0.0001661   0.09985049 -0.09989852]\n",
      "####################\n",
      "--------------------\n",
      "for epoch  >> 4\n",
      "predicted value :\n",
      " [1 1 1 1]\n",
      "error value :\n",
      " 0   -1\n",
      "1    0\n",
      "2    0\n",
      "3   -1\n",
      "Name: y, dtype: int64\n",
      "updated weight value after epoch:3 :\n",
      " [-0.0998339  -0.00014951  0.10010148]\n",
      "####################\n",
      "--------------------\n",
      "for epoch  >> 5\n",
      "predicted value :\n",
      " [0 0 0 0]\n",
      "error value :\n",
      " 0    0\n",
      "1    1\n",
      "2    1\n",
      "3    0\n",
      "Name: y, dtype: int64\n",
      "updated weight value after epoch:4 :\n",
      " [ 0.0001661   0.09985049 -0.09989852]\n",
      "####################\n",
      "--------------------\n",
      "for epoch  >> 6\n",
      "predicted value :\n",
      " [1 1 1 1]\n",
      "error value :\n",
      " 0   -1\n",
      "1    0\n",
      "2    0\n",
      "3   -1\n",
      "Name: y, dtype: int64\n",
      "updated weight value after epoch:5 :\n",
      " [-0.0998339  -0.00014951  0.10010148]\n",
      "####################\n",
      "--------------------\n",
      "for epoch  >> 7\n",
      "predicted value :\n",
      " [0 0 0 0]\n",
      "error value :\n",
      " 0    0\n",
      "1    1\n",
      "2    1\n",
      "3    0\n",
      "Name: y, dtype: int64\n",
      "updated weight value after epoch:6 :\n",
      " [ 0.0001661   0.09985049 -0.09989852]\n",
      "####################\n",
      "--------------------\n",
      "for epoch  >> 8\n",
      "predicted value :\n",
      " [1 1 1 1]\n",
      "error value :\n",
      " 0   -1\n",
      "1    0\n",
      "2    0\n",
      "3   -1\n",
      "Name: y, dtype: int64\n",
      "updated weight value after epoch:7 :\n",
      " [-0.0998339  -0.00014951  0.10010148]\n",
      "####################\n",
      "--------------------\n",
      "for epoch  >> 9\n",
      "predicted value :\n",
      " [0 0 0 0]\n",
      "error value :\n",
      " 0    0\n",
      "1    1\n",
      "2    1\n",
      "3    0\n",
      "Name: y, dtype: int64\n",
      "updated weight value after epoch:8 :\n",
      " [ 0.0001661   0.09985049 -0.09989852]\n",
      "####################\n",
      "--------------------\n",
      "for epoch  >> 10\n",
      "predicted value :\n",
      " [1 1 1 1]\n",
      "error value :\n",
      " 0   -1\n",
      "1    0\n",
      "2    0\n",
      "3   -1\n",
      "Name: y, dtype: int64\n",
      "updated weight value after epoch:9 :\n",
      " [-0.0998339  -0.00014951  0.10010148]\n",
      "####################\n"
     ]
    }
   ],
   "source": [
    "X,y = prepare_data(df_XOR)\n",
    "eta = 0.1\n",
    "EPOCHS = 10\n",
    "model_or = Percptron(eta=eta,epochs=EPOCHS)\n",
    "model_or.fit(X,y)"
   ]
  },
  {
   "cell_type": "code",
   "execution_count": 49,
   "id": "72987448",
   "metadata": {},
   "outputs": [
    {
     "data": {
      "text/plain": [
       "array([0])"
      ]
     },
     "execution_count": 49,
     "metadata": {},
     "output_type": "execute_result"
    }
   ],
   "source": [
    "model_or.predict(X=[[0,0]])"
   ]
  },
  {
   "cell_type": "code",
   "execution_count": 21,
   "id": "5e665222",
   "metadata": {},
   "outputs": [
    {
     "data": {
      "text/plain": [
       "0.01"
      ]
     },
     "execution_count": 21,
     "metadata": {},
     "output_type": "execute_result"
    }
   ],
   "source": [
    "obj = Percptron(eta= 0.01,epochs=10)\n",
    "obj.eta"
   ]
  },
  {
   "cell_type": "code",
   "execution_count": 22,
   "id": "999c2176",
   "metadata": {},
   "outputs": [
    {
     "data": {
      "text/plain": [
       "10"
      ]
     },
     "execution_count": 22,
     "metadata": {},
     "output_type": "execute_result"
    }
   ],
   "source": [
    "obj.epochs"
   ]
  },
  {
   "cell_type": "code",
   "execution_count": 23,
   "id": "78b9c493",
   "metadata": {},
   "outputs": [
    {
     "data": {
      "text/plain": [
       "array([-8.67594466e-05, -6.67546787e-05, -1.46447598e-05])"
      ]
     },
     "execution_count": 23,
     "metadata": {},
     "output_type": "execute_result"
    }
   ],
   "source": [
    "obj.weights"
   ]
  },
  {
   "cell_type": "code",
   "execution_count": 7,
   "id": "69564c7a",
   "metadata": {},
   "outputs": [
    {
     "data": {
      "text/plain": [
       "array([[1., 1.],\n",
       "       [1., 1.],\n",
       "       [1., 1.],\n",
       "       [1., 1.]])"
      ]
     },
     "execution_count": 7,
     "metadata": {},
     "output_type": "execute_result"
    }
   ],
   "source": [
    "X = np.ones((4,2))\n",
    "X"
   ]
  },
  {
   "cell_type": "code",
   "execution_count": 24,
   "id": "1d5b7c85",
   "metadata": {},
   "outputs": [
    {
     "data": {
      "text/plain": [
       "array([[1.],\n",
       "       [1.],\n",
       "       [1.],\n",
       "       [1.]])"
      ]
     },
     "execution_count": 24,
     "metadata": {},
     "output_type": "execute_result"
    }
   ],
   "source": [
    "y = np.ones((4, 1))\n",
    "y"
   ]
  },
  {
   "cell_type": "code",
   "execution_count": 25,
   "id": "46a348bf",
   "metadata": {},
   "outputs": [
    {
     "name": "stdout",
     "output_type": "stream",
     "text": [
      "X with Bias:\n",
      " [[ 1.  1. -1.]\n",
      " [ 1.  1. -1.]\n",
      " [ 1.  1. -1.]\n",
      " [ 1.  1. -1.]]\n"
     ]
    }
   ],
   "source": [
    "obj.fit(X, y)"
   ]
  },
  {
   "cell_type": "code",
   "execution_count": 12,
   "id": "b0cc74cd",
   "metadata": {},
   "outputs": [
    {
     "data": {
      "text/plain": [
       "array([[ 1.,  1., -1.],\n",
       "       [ 1.,  1., -1.],\n",
       "       [ 1.,  1., -1.],\n",
       "       [ 1.,  1., -1.]])"
      ]
     },
     "execution_count": 12,
     "metadata": {},
     "output_type": "execute_result"
    }
   ],
   "source": [
    "np.c_[X, -np.ones((len(X),1))]"
   ]
  },
  {
   "cell_type": "code",
   "execution_count": null,
   "id": "221d76df",
   "metadata": {},
   "outputs": [],
   "source": []
  },
  {
   "cell_type": "code",
   "execution_count": null,
   "id": "601a2125",
   "metadata": {},
   "outputs": [],
   "source": []
  },
  {
   "cell_type": "code",
   "execution_count": null,
   "id": "d27b5721",
   "metadata": {},
   "outputs": [],
   "source": []
  }
 ],
 "metadata": {
  "kernelspec": {
   "display_name": "Python 3 (ipykernel)",
   "language": "python",
   "name": "python3"
  },
  "language_info": {
   "codemirror_mode": {
    "name": "ipython",
    "version": 3
   },
   "file_extension": ".py",
   "mimetype": "text/x-python",
   "name": "python",
   "nbconvert_exporter": "python",
   "pygments_lexer": "ipython3",
   "version": "3.7.11"
  }
 },
 "nbformat": 4,
 "nbformat_minor": 5
}
